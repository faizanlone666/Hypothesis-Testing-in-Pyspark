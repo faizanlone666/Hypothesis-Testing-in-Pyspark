{
 "cells": [
  {
   "cell_type": "code",
   "execution_count": 1,
   "metadata": {},
   "outputs": [],
   "source": [
    "from __future__ import print_function\n",
    "from __future__ import annotations\n",
    "import findspark\n",
    "findspark.init('c:\\spark\\spark')\n",
    "from pyspark import SparkContext\n",
    "from pyspark.sql import SQLContext\n",
    "from pyspark.sql import SparkSession\n",
    "from pyspark.ml.linalg import Vectors\n",
    "from pyspark.ml.stat import ChiSquareTest\n",
    "import pandas as pd\n",
    "import numpy as np\n",
    "\n",
    "from pyspark.ml.feature import StringIndexer,VectorAssembler,OneHotEncoder\n",
    "from pyspark.ml import Pipeline\n",
    "from pyspark.sql.types import _infer_schema"
   ]
  },
  {
   "cell_type": "code",
   "execution_count": 2,
   "metadata": {},
   "outputs": [
    {
     "name": "stdout",
     "output_type": "stream",
     "text": [
      "pValues: [0.2614641299491107,0.2614641299491107,0.2614641299491107,0.2614641299491107,0.2614641299491107,0.2614641299491107,0.2614641299491107,0.2614641299491107,0.2614641299491107,0.2614641299491107,0.2614641299491107,0.2614641299491107,0.2614641299491107,0.2614641299491107,0.2614641299491107,0.04550026389635764,0.2614641299491107,0.2614641299491107,0.2614641299491107,0.2614641299491107,0.2614641299491107,0.2614641299491107,0.2614641299491107,0.2614641299491107,0.2614641299491107,0.2614641299491107,0.2614641299491107,0.2614641299491107,0.2614641299491107,0.04550026389635764]\n",
      "degreesOfFreedom: [3, 3, 3, 3, 3, 3, 3, 3, 3, 3, 3, 3, 3, 3, 3, 1, 3, 3, 3, 3, 3, 3, 3, 3, 3, 3, 3, 3, 3, 1]\n",
      "statistics: [4.0,4.0,4.0,4.0,4.0,4.0,4.0,4.0,4.0,4.0,4.0,4.0,4.0,4.0,4.0,4.0,4.0,4.0,4.0,4.0,4.0,4.0,4.0,4.0,4.0,4.0,4.0,4.0,4.0,4.0]\n"
     ]
    }
   ],
   "source": [
    "if __name__ == \"__main__\":\n",
    "    sc=SparkContext()\n",
    "    sqlc=SQLContext(sc)\n",
    "    df = pd.read_csv('UNSW_NB15_training-set.csv')\n",
    "    #df = df[['synack','dbytes','sttl','ct_srv_src','dttl']]\n",
    "    df =sc.parallelize([(0,Vectors.dense(df.iloc[0:30,25])),\n",
    "    (0,Vectors.dense(df.iloc[0:30,8])),\n",
    "    (1,Vectors.dense(df.iloc[0:30,10])),\n",
    "    (0,Vectors.dense(df.iloc[0:30,11]))])\n",
    "    df = df.toDF([\"label\", \"features\"])\n",
    "    #df = sqlContext.createDataFrame(rdd, samplingRatio=0.2)\n",
    "    #sdf = sqlc.createDataFrame(df,\"label\",\"features\")\n",
    "    r = ChiSquareTest.test(df,\"features\",\"label\").head()\n",
    "    print(\"pValues: \" + str(r.pValues))\n",
    "    print(\"degreesOfFreedom: \" + str(r.degreesOfFreedom))\n",
    "    print(\"statistics: \" + str(r.statistics))\n",
    "    \n",
    "    sc.stop()"
   ]
  },
  {
   "cell_type": "code",
   "execution_count": null,
   "metadata": {},
   "outputs": [],
   "source": []
  },
  {
   "cell_type": "code",
   "execution_count": null,
   "metadata": {},
   "outputs": [],
   "source": []
  }
 ],
 "metadata": {
  "kernelspec": {
   "display_name": "Python 3",
   "language": "python",
   "name": "python3"
  },
  "language_info": {
   "codemirror_mode": {
    "name": "ipython",
    "version": 3
   },
   "file_extension": ".py",
   "mimetype": "text/x-python",
   "name": "python",
   "nbconvert_exporter": "python",
   "pygments_lexer": "ipython3",
   "version": "3.7.1"
  }
 },
 "nbformat": 4,
 "nbformat_minor": 2
}
